{
  "nbformat": 4,
  "nbformat_minor": 0,
  "metadata": {
    "colab": {
      "provenance": [],
      "authorship_tag": "ABX9TyOGrgC1X/5KRg07a82CrSqj",
      "include_colab_link": true
    },
    "kernelspec": {
      "name": "python3",
      "display_name": "Python 3"
    },
    "language_info": {
      "name": "python"
    }
  },
  "cells": [
    {
      "cell_type": "markdown",
      "metadata": {
        "id": "view-in-github",
        "colab_type": "text"
      },
      "source": [
        "<a href=\"https://colab.research.google.com/github/VVSWS/Main/blob/main/Task_1.ipynb\" target=\"_parent\"><img src=\"https://colab.research.google.com/assets/colab-badge.svg\" alt=\"Open In Colab\"/></a>"
      ]
    },
    {
      "cell_type": "code",
      "execution_count": null,
      "metadata": {
        "id": "TCH4XejrpLj-",
        "colab": {
          "base_uri": "https://localhost:8080/"
        },
        "outputId": "8c6fcee2-74c5-41d7-dfe7-09b88b58382d"
      },
      "outputs": [
        {
          "output_type": "stream",
          "name": "stdout",
          "text": [
            "Model: \"sequential_2\"\n",
            "_________________________________________________________________\n",
            " Layer (type)                Output Shape              Param #   \n",
            "=================================================================\n",
            " conv2d_7 (Conv2D)           (None, 28, 28, 42)        420       \n",
            "                                                                 \n",
            " max_pooling2d_6 (MaxPoolin  (None, 14, 14, 42)        0         \n",
            " g2D)                                                            \n",
            "                                                                 \n",
            " flatten_6 (Flatten)         (None, 8232)              0         \n",
            "                                                                 \n",
            " dense_2 (Dense)             (None, 100)               823300    \n",
            "                                                                 \n",
            " dense_3 (Dense)             (None, 10)                1010      \n",
            "                                                                 \n",
            "=================================================================\n",
            "Total params: 824730 (3.15 MB)\n",
            "Trainable params: 824730 (3.15 MB)\n",
            "Non-trainable params: 0 (0.00 Byte)\n",
            "_________________________________________________________________\n",
            "None\n"
          ]
        }
      ],
      "source": [
        "from tensorflow import keras as k # импортируем библиотеку керас\n",
        "from tensorflow.keras.layers import Dense, Flatten, Conv2D, MaxPooling2D # импортируем классы\n",
        "from tensorflow.keras.datasets import mnist # импортируем базу данных с изображениями цифр\n",
        "\n",
        "Structure = k.Sequential([\n",
        "    Conv2D(42, (3, 3), padding = 'same', activation = 'relu', input_shape = (28, 28, 1)),  #создаем первый сверточный слой, сканируем ядром 3х3,\n",
        "    MaxPooling2D(2, 2),  #укрупняем масштаб полученных признаков\n",
        "    #можно сделать несколько таких последовательностей из сверточного слоя и укрупнения подбирая параметры\n",
        "    Flatten(), #вытягиваем в единый вектор\n",
        "    Dense(100, activation = 'relu'), #подаем полученные данные на полносвязную сеть, первый слой\n",
        "    Dense(10, activation = 'softmax') #второй, выходной слой\n",
        "\n",
        "])\n",
        "print(Structure.summary())\n"
      ]
    }
  ]
}