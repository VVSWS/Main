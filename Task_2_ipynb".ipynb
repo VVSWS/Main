{
  "nbformat": 4,
  "nbformat_minor": 0,
  "metadata": {
    "colab": {
      "provenance": [],
      "authorship_tag": "ABX9TyPgr0YX+pLQUmgAzD8D7Xf0",
      "include_colab_link": true
    },
    "kernelspec": {
      "name": "python3",
      "display_name": "Python 3"
    },
    "language_info": {
      "name": "python"
    }
  },
  "cells": [
    {
      "cell_type": "markdown",
      "metadata": {
        "id": "view-in-github",
        "colab_type": "text"
      },
      "source": [
        "<a href=\"https://colab.research.google.com/github/VVSWS/Main/blob/main/Task_2_ipynb%22.ipynb\" target=\"_parent\"><img src=\"https://colab.research.google.com/assets/colab-badge.svg\" alt=\"Open In Colab\"/></a>"
      ]
    },
    {
      "cell_type": "code",
      "execution_count": null,
      "metadata": {
        "id": "TCH4XejrpLj-",
        "colab": {
          "base_uri": "https://localhost:8080/"
        },
        "outputId": "535fb807-51f5-422f-b61d-534f1fe6a6ae"
      },
      "outputs": [
        {
          "output_type": "stream",
          "name": "stdout",
          "text": [
            "Epoch 1/3\n",
            "1286/1286 [==============================] - 45s 34ms/step - loss: 0.1572 - accuracy: 0.9531 - val_loss: 0.0647 - val_accuracy: 0.9823\n",
            "Epoch 2/3\n",
            "1286/1286 [==============================] - 46s 36ms/step - loss: 0.0510 - accuracy: 0.9845 - val_loss: 0.0589 - val_accuracy: 0.9838\n",
            "Epoch 3/3\n",
            "1286/1286 [==============================] - 44s 34ms/step - loss: 0.0313 - accuracy: 0.9901 - val_loss: 0.0458 - val_accuracy: 0.9867\n"
          ]
        },
        {
          "output_type": "execute_result",
          "data": {
            "text/plain": [
              "<keras.src.callbacks.History at 0x7bc8cc6fdff0>"
            ]
          },
          "metadata": {},
          "execution_count": 6
        }
      ],
      "source": [
        "import numpy as np # импортируем numpy\n",
        "from tensorflow import keras as k # импортируем библиотеку керас\n",
        "from tensorflow.keras.layers import Dense, Flatten, Conv2D, MaxPooling2D # импортируем классы\n",
        "from tensorflow.keras.datasets import mnist # импортируем базу данных с изображениями цифр\n",
        "(img_train, key_train), (img_test, key_test) = mnist.load_data()  #загружаем датасет mnist в тренировочную и тестовую\n",
        "img_train = img_train / 255 #нормализуем входные данные\n",
        "img_test = img_test / 255\n",
        "key_c_train = k.utils.to_categorical(key_train, 10) #преобразуем формат ключа из числа в вектор\n",
        "key_c_test = k.utils.to_categorical(key_test, 10)\n",
        "img_train = np.expand_dims(img_train, axis = 3) # добавляем канал к выборкам\n",
        "img_test = np.expand_dims(img_test, axis = 3)\n",
        "Structure = k.Sequential([\n",
        "    Conv2D(42, (3, 3), padding = 'same', activation = 'relu', input_shape = (28, 28, 1)),  #создаем первый сверточный слой, сканируем ядром 3х3,\n",
        "    MaxPooling2D(2, 2),  #укрупняем масштаб полученных признаков\n",
        "    Flatten(), #вытягиваем в единый вектор\n",
        "    Dense(150, activation = 'relu'), #подаем полученные данные на полносвязную сеть, первый слой\n",
        "    Dense(10, activation = 'softmax') #второй, выходной слой\n",
        "])\n",
        "Structure.compile(optimizer = 'adam', loss = 'categorical_crossentropy', metrics = ['accuracy']) #компилируем нейросеть\n",
        "#обучаем с 10% валидационной, эпоха проходит за ~45 сек, на 3ей точность уже 0.9901 на тестовой и 0.9867 на валидационной\n",
        "Structure.fit(img_train, key_c_train, batch_size = 42, epochs = 3, validation_split = 0.1)\n"
      ]
    },
    {
      "cell_type": "code",
      "source": [
        "Structure.evaluate(img_test, key_c_test) #проверяем качество на тестовой выборке, точность 0.9851, наверное не плохо"
      ],
      "metadata": {
        "colab": {
          "base_uri": "https://localhost:8080/"
        },
        "id": "5k-No2D51i1y",
        "outputId": "858e5938-2d5d-4df7-9f92-d21c6a7ebd0d"
      },
      "execution_count": null,
      "outputs": [
        {
          "output_type": "stream",
          "name": "stdout",
          "text": [
            "313/313 [==============================] - 3s 10ms/step - loss: 0.0511 - accuracy: 0.9851\n"
          ]
        },
        {
          "output_type": "execute_result",
          "data": {
            "text/plain": [
              "[0.051051314920186996, 0.9850999712944031]"
            ]
          },
          "metadata": {},
          "execution_count": 8
        }
      ]
    }
  ]
}